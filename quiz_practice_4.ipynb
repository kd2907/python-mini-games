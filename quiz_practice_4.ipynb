{
 "cells": [
  {
   "cell_type": "code",
   "execution_count": 15,
   "metadata": {},
   "outputs": [
    {
     "name": "stdout",
     "output_type": "stream",
     "text": [
      "[[ 0.08755313  0.6413545   0.11220585  0.54754021  0.56491071  0.12475741\n",
      "   0.90178224  0.16980196  0.92984987  0.25204956]\n",
      " [ 0.27537462  0.06604102  0.33345493  0.98113159  0.32893619  0.1434096\n",
      "   0.0179886   0.26304189  0.7452954   0.93793797]\n",
      " [ 0.38507968  0.29105605  0.06321129  0.25367472  0.87615354  0.6458336\n",
      "   0.59848737  0.82101971  0.20929437  0.14236729]\n",
      " [ 0.29099276  0.39499746  0.13274487  0.07501946  0.39512118  0.76850018\n",
      "   0.78524038  0.68443957  0.38378889  0.15572682]\n",
      " [ 0.71076558  0.10773392  0.46052157  0.15382662  0.6931356   0.1670895\n",
      "   0.72824379  0.48439535  0.05952926  0.09423866]\n",
      " [ 0.70243043  0.7897437   0.65959813  0.7122801   0.62037332  0.66707555\n",
      "   0.71909104  0.42556621  0.99965492  0.41614087]\n",
      " [ 0.77384922  0.81239864  0.77619584  0.35580268  0.95963495  0.99299164\n",
      "   0.40999241  0.20264441  0.42635207  0.87002534]\n",
      " [ 0.46242622  0.65673833  0.73455791  0.51462457  0.00189514  0.08084325\n",
      "   0.33341039  0.48834149  0.68094453  0.93623316]\n",
      " [ 0.30372267  0.09288215  0.70305384  0.67979103  0.62821811  0.72127846\n",
      "   0.14502211  0.11028872  0.70659226  0.41302691]\n",
      " [ 0.45079657  0.38642283  0.78308963  0.54049305  0.74848841  0.88587042\n",
      "   0.80692097  0.19024766  0.39838749  0.01585959]]\n"
     ]
    }
   ],
   "source": [
    "import numpy as np\n",
    "d = np.random.rand(10,10)\n",
    "print(d)"
   ]
  },
  {
   "cell_type": "code",
   "execution_count": 14,
   "metadata": {},
   "outputs": [
    {
     "name": "stdout",
     "output_type": "stream",
     "text": [
      "[ True  True  True False  True False False False  True  True]\n"
     ]
    }
   ],
   "source": [
    "d = d < 0.5\n",
    "print(d)"
   ]
  },
  {
   "cell_type": "code",
   "execution_count": null,
   "metadata": {
    "collapsed": true
   },
   "outputs": [],
   "source": []
  },
  {
   "cell_type": "code",
   "execution_count": null,
   "metadata": {
    "collapsed": true
   },
   "outputs": [],
   "source": []
  }
 ],
 "metadata": {
  "kernelspec": {
   "display_name": "Python 3",
   "language": "python",
   "name": "python3"
  },
  "language_info": {
   "codemirror_mode": {
    "name": "ipython",
    "version": 3
   },
   "file_extension": ".py",
   "mimetype": "text/x-python",
   "name": "python",
   "nbconvert_exporter": "python",
   "pygments_lexer": "ipython3",
   "version": "3.6.3"
  }
 },
 "nbformat": 4,
 "nbformat_minor": 2
}
