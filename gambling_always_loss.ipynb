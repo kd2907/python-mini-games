{
 "cells": [
  {
   "cell_type": "code",
   "execution_count": 2,
   "metadata": {},
   "outputs": [
    {
     "name": "stdout",
     "output_type": "stream",
     "text": [
      "wallet_cash =  9510\n",
      "Total_Loss=  490\n"
     ]
    }
   ],
   "source": [
    "import random\n",
    "#def gambling(n):\n",
    "initial_cash = 10000\n",
    "wallet_cash= 10000\n",
    "ticket_price = 10\n",
    "for i in range(1,100):\n",
    "    wallet_cash-=ticket_price\n",
    "#    bet_number = int(input(\"choose the number: \"))\n",
    "    bet_number = random.randint(0,10)\n",
    "    \n",
    "    lucky_draw_number = random.randint(0,10)\n",
    "\n",
    "    \n",
    "    if bet_number == lucky_draw_number:\n",
    "        wallet_cash += 10*ticket_price\n",
    "    \n",
    "Total_Loss = initial_cash - wallet_cash\n",
    "\n",
    "print(\"wallet_cash = \", wallet_cash)\n",
    "print(\"Total_Loss= \", Total_Loss)"
   ]
  }
 ],
 "metadata": {
  "kernelspec": {
   "display_name": "Python 3",
   "language": "python",
   "name": "python3"
  },
  "language_info": {
   "codemirror_mode": {
    "name": "ipython",
    "version": 3
   },
   "file_extension": ".py",
   "mimetype": "text/x-python",
   "name": "python",
   "nbconvert_exporter": "python",
   "pygments_lexer": "ipython3",
   "version": "3.6.7"
  }
 },
 "nbformat": 4,
 "nbformat_minor": 2
}
