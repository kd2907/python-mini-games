{
 "cells": [
  {
   "cell_type": "markdown",
   "metadata": {},
   "source": [
    "# Steps:\n",
    "### 1. In any magic squares, 1 is located at(n/2, n-1).\n",
    "### 2. Let's say the position of 1 (n/2, n-1) is (p,q) , then next number 2 is located at (p-1, q+1) position, Anytime if the calculated row position becomes -1, then make it n-1 and if column position become n then make it 0.\n",
    "### 3. If the calculated position already contains a number then decrement the column by 2 and increment the row by 1.\n",
    "### 4. If anytime row position becomes -1 and column becomes n, switch it to (0,n-2). "
   ]
  },
  {
   "cell_type": "code",
   "execution_count": 7,
   "metadata": {},
   "outputs": [
    {
     "name": "stdout",
     "output_type": "stream",
     "text": [
      "3\n",
      "magic number =  15.0\n",
      "matrix =  [[2, 7, 6], [9, 5, 1], [4, 3, 8]]\n"
     ]
    }
   ],
   "source": [
    "n=int(input())\n",
    "matrix = [0]*n\n",
    "for k in range(n):\n",
    "    matrix[k] = [0]*n\n",
    "\n",
    "magic_number = (n*(n**2+1))/2\n",
    "print(\"magic number = \",magic_number)\n",
    "\n",
    "# for position of 1\n",
    "i=n//2\n",
    "j=n-1\n",
    "matrix[i][j] =1\n",
    "#print (i, j)\n",
    "q = 1\n",
    "num =1\n",
    "while num < n**2:\n",
    "    i=i-1\n",
    "    j=j+1\n",
    "    q +=1\n",
    "    \n",
    "# for condition \n",
    "    if i == -1 and j == n:\n",
    "        i = 0\n",
    "        j = n-2\n",
    "# for condition 2\n",
    "    if i == -1:\n",
    "        i = n-1\n",
    "        \n",
    "    if j == n:\n",
    "        j=0\n",
    "        \n",
    "# for condition 3    \n",
    "    if matrix[i][j] != 0:\n",
    "        i+=1\n",
    "        j-=2\n",
    "            \n",
    "   # print(\"i=\",i)\n",
    "    #print(\"j=\",j)\n",
    "   #print(\"num=\", q)\n",
    "    matrix[i][j] = q\n",
    "    \n",
    "    num+=1\n",
    "print(\"matrix = \",matrix)"
   ]
  }
 ],
 "metadata": {
  "kernelspec": {
   "display_name": "Python 3",
   "language": "python",
   "name": "python3"
  },
  "language_info": {
   "codemirror_mode": {
    "name": "ipython",
    "version": 3
   },
   "file_extension": ".py",
   "mimetype": "text/x-python",
   "name": "python",
   "nbconvert_exporter": "python",
   "pygments_lexer": "ipython3",
   "version": "3.6.7"
  }
 },
 "nbformat": 4,
 "nbformat_minor": 2
}
