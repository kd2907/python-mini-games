{
 "cells": [
  {
   "cell_type": "code",
   "execution_count": 3,
   "metadata": {
    "scrolled": true
   },
   "outputs": [
    {
     "name": "stdout",
     "output_type": "stream",
     "text": [
      "kuldeep\n",
      "monika\n"
     ]
    },
    {
     "data": {
      "text/plain": [
       "[['u', 'l', 'd', 'e', 'e', 'p', 'm', 'o', 'n', 'i', 'a'], True]"
      ]
     },
     "execution_count": 3,
     "metadata": {},
     "output_type": "execute_result"
    }
   ],
   "source": [
    "import string\n",
    "\n",
    "# # given string\n",
    "string_1 = input()\n",
    "string_2 = input()\n",
    "\n",
    "\n",
    "def remove_duplicate(string_1_list, string_2_list):\n",
    "    # convert string into list\n",
    "    string_1_list = list(string_1)\n",
    "    string_2_list = list(string_2)\n",
    "    \n",
    "    for i in range(len(string_1_list)):        \n",
    "        for j in range(len(string_2_list)):\n",
    "            if string_1_list[i] == string_2_list[j]:\n",
    "                \n",
    "                common_letter = string_1_list[i]\n",
    "                string_1_list.remove(common_letter)\n",
    "                string_2_list.remove(common_letter)\n",
    "\n",
    "                final_list = string_1_list + string_2_list\n",
    "                return [final_list, True]\n",
    "                   \n",
    "    final_list = string_1_list + string_2_list\n",
    "    return [final_list, False]    \n",
    "\n",
    "remove_duplicate(\"kuldeep\", \"monika\")"
   ]
  },
  {
   "cell_type": "code",
   "execution_count": null,
   "metadata": {
    "collapsed": true
   },
   "outputs": [],
   "source": [
    "# if we want to replace the character of the string\n",
    "print(string_1.replace(\"K\",\"#\"))"
   ]
  },
  {
   "cell_type": "code",
   "execution_count": 44,
   "metadata": {},
   "outputs": [
    {
     "name": "stdout",
     "output_type": "stream",
     "text": [
      "[ 0.  0.  0.]\n",
      "(3,)\n"
     ]
    }
   ],
   "source": [
    "import numpy as np\n",
    "x = np.zeros(3)\n",
    "\n",
    "print(x)\n",
    "print(x.shape)"
   ]
  },
  {
   "cell_type": "code",
   "execution_count": 45,
   "metadata": {},
   "outputs": [
    {
     "name": "stdout",
     "output_type": "stream",
     "text": [
      "[[ 99 100]\n",
      " [101  98]]\n"
     ]
    }
   ],
   "source": [
    "import numpy as np\n",
    "m=np.array([[99,101],[100,98]])\n",
    "print(m.T)"
   ]
  },
  {
   "cell_type": "code",
   "execution_count": 46,
   "metadata": {},
   "outputs": [
    {
     "name": "stdout",
     "output_type": "stream",
     "text": [
      "simran\n"
     ]
    }
   ],
   "source": [
    "s='SImRan'\n",
    "print(s.lower())"
   ]
  },
  {
   "cell_type": "code",
   "execution_count": null,
   "metadata": {
    "collapsed": true
   },
   "outputs": [],
   "source": []
  }
 ],
 "metadata": {
  "kernelspec": {
   "display_name": "Python 3",
   "language": "python",
   "name": "python3"
  },
  "language_info": {
   "codemirror_mode": {
    "name": "ipython",
    "version": 3
   },
   "file_extension": ".py",
   "mimetype": "text/x-python",
   "name": "python",
   "nbconvert_exporter": "python",
   "pygments_lexer": "ipython3",
   "version": "3.6.7"
  }
 },
 "nbformat": 4,
 "nbformat_minor": 2
}
