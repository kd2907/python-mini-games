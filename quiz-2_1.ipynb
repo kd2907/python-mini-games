{
 "cells": [
  {
   "cell_type": "code",
   "execution_count": 8,
   "metadata": {},
   "outputs": [
    {
     "name": "stdout",
     "output_type": "stream",
     "text": [
      "[[-0.10749182 -1.90370783 -1.48089214]\n",
      " [-1.18101405 -2.1021844  -2.22357711]]\n",
      "(2, 3)\n"
     ]
    }
   ],
   "source": [
    "import numpy as np\n",
    "a = np.random.randn(2, 3) # a.shape = (2, 3)\n",
    "b = np.random.randn(2, 1) # b.shape = (2, 1)\n",
    "c = a + b\n",
    "print(c)\n",
    "print(c.shape)"
   ]
  },
  {
   "cell_type": "code",
   "execution_count": 10,
   "metadata": {},
   "outputs": [
    {
     "ename": "ValueError",
     "evalue": "operands could not be broadcast together with shapes (4,3) (3,2) ",
     "output_type": "error",
     "traceback": [
      "\u001b[1;31m---------------------------------------------------------------------------\u001b[0m",
      "\u001b[1;31mValueError\u001b[0m                                Traceback (most recent call last)",
      "\u001b[1;32m<ipython-input-10-be02dead9087>\u001b[0m in \u001b[0;36m<module>\u001b[1;34m()\u001b[0m\n\u001b[0;32m      2\u001b[0m \u001b[0mx\u001b[0m \u001b[1;33m=\u001b[0m \u001b[0mnp\u001b[0m\u001b[1;33m.\u001b[0m\u001b[0mrandom\u001b[0m\u001b[1;33m.\u001b[0m\u001b[0mrandn\u001b[0m\u001b[1;33m(\u001b[0m\u001b[1;36m4\u001b[0m\u001b[1;33m,\u001b[0m \u001b[1;36m3\u001b[0m\u001b[1;33m)\u001b[0m \u001b[1;31m# a.shape = (2, 3)\u001b[0m\u001b[1;33m\u001b[0m\u001b[0m\n\u001b[0;32m      3\u001b[0m \u001b[0my\u001b[0m \u001b[1;33m=\u001b[0m \u001b[0mnp\u001b[0m\u001b[1;33m.\u001b[0m\u001b[0mrandom\u001b[0m\u001b[1;33m.\u001b[0m\u001b[0mrandn\u001b[0m\u001b[1;33m(\u001b[0m\u001b[1;36m3\u001b[0m\u001b[1;33m,\u001b[0m \u001b[1;36m2\u001b[0m\u001b[1;33m)\u001b[0m \u001b[1;31m# b.shape = (2, 1)\u001b[0m\u001b[1;33m\u001b[0m\u001b[0m\n\u001b[1;32m----> 4\u001b[1;33m \u001b[0mz\u001b[0m \u001b[1;33m=\u001b[0m \u001b[0mx\u001b[0m \u001b[1;33m*\u001b[0m \u001b[0my\u001b[0m\u001b[1;33m\u001b[0m\u001b[0m\n\u001b[0m\u001b[0;32m      5\u001b[0m \u001b[0mprint\u001b[0m\u001b[1;33m(\u001b[0m\u001b[0mz\u001b[0m\u001b[1;33m)\u001b[0m\u001b[1;33m\u001b[0m\u001b[0m\n\u001b[0;32m      6\u001b[0m \u001b[0mprint\u001b[0m\u001b[1;33m(\u001b[0m\u001b[0mz\u001b[0m\u001b[1;33m.\u001b[0m\u001b[0mshape\u001b[0m\u001b[1;33m)\u001b[0m\u001b[1;33m\u001b[0m\u001b[0m\n",
      "\u001b[1;31mValueError\u001b[0m: operands could not be broadcast together with shapes (4,3) (3,2) "
     ]
    }
   ],
   "source": [
    "import numpy as np\n",
    "x = np.random.randn(4, 3) # a.shape = (2, 3)\n",
    "y = np.random.randn(3, 2) # b.shape = (2, 1)\n",
    "z = x * y\n",
    "print(z)\n",
    "print(z.shape)"
   ]
  },
  {
   "cell_type": "code",
   "execution_count": 25,
   "metadata": {},
   "outputs": [
    {
     "name": "stdout",
     "output_type": "stream",
     "text": [
      "[[ -8.72842458  -4.5520809    1.88698265 ...,  11.23204532 -21.54824026\n",
      "   -3.07311556]\n",
      " [-21.28884312  -4.22778443 -17.53298545 ...,  -7.64839477  -8.10052415\n",
      "    0.3003105 ]\n",
      " [  2.67311267  -6.66634268   5.54003522 ...,   6.58606438  -0.27974077\n",
      "   21.25788411]\n",
      " ..., \n",
      " [ -8.57102144   6.54624216 -11.11550054 ...,   5.2811888    2.80524363\n",
      "   12.60962771]\n",
      " [-12.71509594  21.71467544 -12.25538836 ..., -11.97580268  16.76497035\n",
      "    7.14911579]\n",
      " [ 20.77318835 -10.65295926   4.95331179 ...,   9.03379553   3.54663335\n",
      "   -2.84433046]]\n",
      "(12288, 45)\n"
     ]
    }
   ],
   "source": [
    "import numpy as np\n",
    "a = np.random.randn(12288,150) # a.shape = (2, 3)\n",
    "b = np.random.randn(150,45) # b.shape = (2, 1)\n",
    "c = np.dot(a,b)\n",
    "print(c)\n",
    "print(c.shape)"
   ]
  },
  {
   "cell_type": "code",
   "execution_count": 13,
   "metadata": {},
   "outputs": [
    {
     "name": "stdout",
     "output_type": "stream",
     "text": [
      "a =  [[-1.05670192  0.58005734  0.81376758]\n",
      " [ 1.50130698  0.30430814  0.60787257]\n",
      " [-2.02920083  0.52355347 -0.69046294]]\n",
      "b =  [[ 1.1450312 ]\n",
      " [-0.11738066]\n",
      " [-0.00467403]]\n",
      "[[-1.20995667  0.66418375  0.93178927]\n",
      " [-0.1762244  -0.03571989 -0.07135248]\n",
      " [ 0.00948454 -0.0024471   0.00322724]]\n",
      "(3, 3)\n"
     ]
    }
   ],
   "source": [
    "a = np.random.randn(3, 3)\n",
    "print(\"a = \",a )\n",
    "b = np.random.randn(3, 1)\n",
    "print(\"b = \",b )\n",
    "c = a*b\n",
    "print(c)\n",
    "print(c.shape)"
   ]
  },
  {
   "cell_type": "code",
   "execution_count": 17,
   "metadata": {},
   "outputs": [
    {
     "name": "stdout",
     "output_type": "stream",
     "text": [
      "a =  [[-1.05534475  1.45672778 -0.11882258]\n",
      " [-1.8977785   0.14256917  0.51356218]\n",
      " [ 0.14739455  1.19432719  0.29314145]]\n",
      "b =  [[ 0.78232923]\n",
      " [-0.37648784]\n",
      " [-0.80879556]]\n",
      "b =  (3, 1)\n",
      "c= [[-0.82562705  1.13964072 -0.09295838]\n",
      " [ 0.71449052 -0.05367556 -0.19334992]\n",
      " [-0.11921206 -0.96596653 -0.2370915 ]]\n",
      "(3, 3)\n"
     ]
    }
   ],
   "source": [
    "a = np.random.randn(3, 3)\n",
    "print(\"a = \",a )\n",
    "b = np.random.randn(3, 1)\n",
    "print(\"b = \",b )\n",
    "c = a*b\n",
    "print(\"c=\",c)\n",
    "print(c.shape)"
   ]
  },
  {
   "cell_type": "code",
   "execution_count": 19,
   "metadata": {},
   "outputs": [
    {
     "name": "stdout",
     "output_type": "stream",
     "text": [
      "c= [[-0.37372816 -1.28809315  0.9945395 ]\n",
      " [ 0.28947813  0.17465571 -0.82242289]\n",
      " [ 1.49093546  0.58480024 -0.55658542]]\n",
      "(3, 3)\n"
     ]
    }
   ],
   "source": [
    "# a.shape = (3,4)\n",
    "# b.shape = (4,1)\n",
    "\n",
    "a = np.random.randn(3, 4)\n",
    "b = np.random.randn(4, 1)\n",
    "\n",
    "for i in range(3):\n",
    "    for j in range(4):\n",
    "        c[i][j] = a[i][j] + b[j]\n",
    "print(\"c=\",c)\n",
    "print(c.shape)"
   ]
  },
  {
   "cell_type": "code",
   "execution_count": 24,
   "metadata": {},
   "outputs": [
    {
     "name": "stdout",
     "output_type": "stream",
     "text": [
      "b= [[-0.38050509]\n",
      " [ 0.30432654]\n",
      " [ 0.53731449]\n",
      " [-0.03675312]]\n",
      "b[1]= [ 0.30432654]\n"
     ]
    }
   ],
   "source": [
    "import numpy as np\n",
    "b = np.random.randn(4, 1)\n",
    "print(\"b=\",b)\n",
    "print(\"b[1]=\",b[1])"
   ]
  },
  {
   "cell_type": "code",
   "execution_count": null,
   "metadata": {
    "collapsed": true
   },
   "outputs": [],
   "source": []
  }
 ],
 "metadata": {
  "kernelspec": {
   "display_name": "Python 3",
   "language": "python",
   "name": "python3"
  },
  "language_info": {
   "codemirror_mode": {
    "name": "ipython",
    "version": 3
   },
   "file_extension": ".py",
   "mimetype": "text/x-python",
   "name": "python",
   "nbconvert_exporter": "python",
   "pygments_lexer": "ipython3",
   "version": "3.6.3"
  }
 },
 "nbformat": 4,
 "nbformat_minor": 2
}
