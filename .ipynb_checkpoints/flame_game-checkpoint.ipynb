{
 "cells": [
  {
   "cell_type": "code",
   "execution_count": 1,
   "metadata": {
    "scrolled": true
   },
   "outputs": [
    {
     "name": "stdout",
     "output_type": "stream",
     "text": [
      "john\n",
      "jill\n"
     ]
    },
    {
     "data": {
      "text/plain": [
       "[['o', 'h', 'n', 'i', 'l', 'l'], True]"
      ]
     },
     "execution_count": 1,
     "metadata": {},
     "output_type": "execute_result"
    }
   ],
   "source": [
    "import string\n",
    "\n",
    "# # given string\n",
    "string_1 = input()\n",
    "string_2 = input()\n",
    "\n",
    "\n",
    "def remove_duplicate(string_1_list, string_2_list):\n",
    "    # convert string into list\n",
    "    string_1_list = list(string_1)\n",
    "    string_2_list = list(string_2)\n",
    "    \n",
    "    for i in range(len(string_1_list)):        \n",
    "        for j in range(len(string_2_list)):\n",
    "            if string_1_list[i] == string_2_list[j]:\n",
    "                \n",
    "                common_letter = string_1_list[i]\n",
    "                string_1_list.remove(common_letter)\n",
    "                string_2_list.remove(common_letter)\n",
    "\n",
    "                final_list = string_1_list + string_2_list\n",
    "                return [final_list, True]\n",
    "                   \n",
    "    final_list = string_1_list + string_2_list\n",
    "    return [final_list, False]    \n",
    "\n",
    "remove_duplicate(\"John\", \"jill\")"
   ]
  }
 ],
 "metadata": {
  "kernelspec": {
   "display_name": "Python 3",
   "language": "python",
   "name": "python3"
  },
  "language_info": {
   "codemirror_mode": {
    "name": "ipython",
    "version": 3
   },
   "file_extension": ".py",
   "mimetype": "text/x-python",
   "name": "python",
   "nbconvert_exporter": "python",
   "pygments_lexer": "ipython3",
   "version": "3.6.7"
  }
 },
 "nbformat": 4,
 "nbformat_minor": 2
}
