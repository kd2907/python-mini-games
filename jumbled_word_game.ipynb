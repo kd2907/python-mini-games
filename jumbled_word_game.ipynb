{
 "cells": [
  {
   "cell_type": "code",
   "execution_count": 2,
   "metadata": {},
   "outputs": [],
   "source": [
    "import random\n",
    "def choose():\n",
    "    words = [\"rainbow\", \"computer\", \"programming\", \"data\", \"science\",\"machine\",\"learning\",\"players\",\"cricket\", \"object\", \"orient\"]\n",
    "    pick = random.choice(words)\n",
    "    return pick\n",
    "def jumble(words):\n",
    "    jumbled = \" \".join(random.sample(words,len(words)))\n",
    "    return jumbled\n",
    "\n",
    "def thank(player1_name,player2_name,player1_score,player2_score):\n",
    "    print(player1_name,\"your score is :\",player1_score)\n",
    "    print(player2_name,\"your score is :\",player2_score)\n",
    "    print(\"Thanks for playing\")\n",
    "    print(\"Have a nice day\")\n",
    "\n",
    "def play():\n",
    "    player1_name = input(\"Player_1, please enter your name:\")\n",
    "    player2_name = input(\"Player_2, please enter your name:\")\n",
    "    player1_score = 0\n",
    "    player2_score = 0\n",
    "    turn = 0\n",
    "    while(1):\n",
    "        # Computer task to pick a word\n",
    "        picked_word = choose()\n",
    "        # create question\n",
    "        question = jumble(picked_word)\n",
    "        print(question.upper())\n",
    "        # Player 1\n",
    "        if turn%2==0:\n",
    "            print(player1_name,\"it's your turn...\")\n",
    "            answer = input(\"what's on your mind \")\n",
    "            if answer == picked_word:\n",
    "                player1_score=player1_score+10\n",
    "                print(\"player_1 score is {} \".format(player1_score))\n",
    "            else:\n",
    "                print(\"Better luck next time. I thought picked word is {}\".format(picked_word))\n",
    "            c = int(input(\"press 1 to continue and 0 to quit: \"))\n",
    "            if c==0:\n",
    "                thank(player1_name,player2_name,player1_score,player2_score)\n",
    "                break\n",
    "                \n",
    "        # Player 2\n",
    "        else:        \n",
    "            print(player2_name,\"it's your turn...\")\n",
    "            answer = input(\"what's on your mind \")\n",
    "            if answer == picked_word:\n",
    "                player2_score=player2_score+10\n",
    "                print(\"player_2 score is {} \".format(player2_score))\n",
    "            else:\n",
    "                print(\"Better luck next time. I thought picked word is {}\".format(picked_word))\n",
    "                c = int(input(\"press 1 to continue and 0 to quit: \"))\n",
    "                if c==0:\n",
    "                    thank(player1_name,player2_name,player1_score,player2_score)\n",
    "                    break\n",
    "        turn+=1"
   ]
  },
  {
   "cell_type": "code",
   "execution_count": null,
   "metadata": {},
   "outputs": [],
   "source": []
  }
 ],
 "metadata": {
  "kernelspec": {
   "display_name": "Python 3",
   "language": "python",
   "name": "python3"
  },
  "language_info": {
   "codemirror_mode": {
    "name": "ipython",
    "version": 3
   },
   "file_extension": ".py",
   "mimetype": "text/x-python",
   "name": "python",
   "nbconvert_exporter": "python",
   "pygments_lexer": "ipython3",
   "version": "3.6.7"
  }
 },
 "nbformat": 4,
 "nbformat_minor": 2
}
